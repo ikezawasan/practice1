{
 "cells": [
  {
   "cell_type": "code",
   "execution_count": 1,
   "metadata": {
    "collapsed": false
   },
   "outputs": [
    {
     "data": {
      "text/plain": [
       "[1, 2, 3, 4, 5, 6, 7, 8, 9, 10]"
      ]
     },
     "execution_count": 1,
     "metadata": {},
     "output_type": "execute_result"
    }
   ],
   "source": [
    "#課題１\n",
    "\n",
    "li = list(range(1,11))\n",
    "li"
   ]
  },
  {
   "cell_type": "code",
   "execution_count": 2,
   "metadata": {
    "collapsed": false
   },
   "outputs": [
    {
     "data": {
      "text/plain": [
       "[2, 4, 6, 8, 10]"
      ]
     },
     "execution_count": 2,
     "metadata": {},
     "output_type": "execute_result"
    }
   ],
   "source": [
    "#課題２\n",
    "#1~10の偶数のみのリスト作成\n",
    "en = list(range(2,11,2))\n",
    "en"
   ]
  },
  {
   "cell_type": "code",
   "execution_count": 3,
   "metadata": {
    "collapsed": false
   },
   "outputs": [
    {
     "data": {
      "text/plain": [
       "{0: 'a', 1: 'b', 2: 'c', 3: 'd', 4: 'e', 5: 'f'}"
      ]
     },
     "execution_count": 3,
     "metadata": {},
     "output_type": "execute_result"
    }
   ],
   "source": [
    "#課題３\n",
    "#リストから辞書型に変換する\n",
    "def list_to_dic(key_list, val_list):\n",
    "    return dict(zip(key_list, val_list))\n",
    "    \n",
    "lis = [\"a\",\"b\",\"c\",\"d\",\"e\",\"f\"]\n",
    "nl = list(range(0,6))\n",
    "\n",
    "list_to_dic(nl,lis) \n",
    "\n"
   ]
  },
  {
   "cell_type": "code",
   "execution_count": 4,
   "metadata": {
    "collapsed": false
   },
   "outputs": [
    {
     "name": "stdout",
     "output_type": "stream",
     "text": [
      " 山田, 24歳.sex: 男性.Height: 170cm.Weight: 60kg.\n",
      "2\n"
     ]
    }
   ],
   "source": [
    "#課題３\n",
    "#Humanクラスの作成\n",
    "class Human:\n",
    "    \n",
    "    count = 0\n",
    "   \n",
    "   \n",
    "    \n",
    " \n",
    "    \n",
    "    def __init__(self, name, age, sex, height, weight):\n",
    "        self.name = name\n",
    "        self.age = age\n",
    "        self.sex = sex\n",
    "        self.height = height\n",
    "        self.weight = weight\n",
    "        Human.count += 1\n",
    "        \n",
    "    def age_plus(self,age):\n",
    "         self.age += 1\n",
    "    \n",
    "    @classmethod\n",
    "    def count_instance(self):\n",
    "        return self.count\n",
    "        \n",
    "         \n",
    "\n",
    "        \n",
    "        \n",
    "a =Human(\"山田\", 23,  \"男性\",170.3 ,60.2)\n",
    "b = Human(\"高橋\", 23,  \"女性\",165.2 ,46.2)\n",
    "\n",
    "a.age_plus(a.age)\n",
    "\n",
    "\n",
    "print(\" %s, %d歳.sex: %s.Height: %dcm.Weight: %dkg.\" % (a.name, a.age,a.sex,a.height,a.weight))\n",
    "print(Human.count_instance())"
   ]
  },
  {
   "cell_type": "markdown",
   "metadata": {
    "collapsed": true
   },
   "source": []
  },
  {
   "cell_type": "code",
   "execution_count": null,
   "metadata": {
    "collapsed": true
   },
   "outputs": [],
   "source": []
  }
 ],
 "metadata": {
  "kernelspec": {
   "display_name": "Python 3",
   "language": "python",
   "name": "python3"
  },
  "language_info": {
   "codemirror_mode": {
    "name": "ipython",
    "version": 3
   },
   "file_extension": ".py",
   "mimetype": "text/x-python",
   "name": "python",
   "nbconvert_exporter": "python",
   "pygments_lexer": "ipython3",
   "version": "3.6.0"
  }
 },
 "nbformat": 4,
 "nbformat_minor": 2
}
